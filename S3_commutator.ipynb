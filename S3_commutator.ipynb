{
 "cells": [
  {
   "cell_type": "code",
   "execution_count": 48,
   "metadata": {},
   "outputs": [],
   "source": [
    "%display plain"
   ]
  },
  {
   "cell_type": "code",
   "execution_count": 49,
   "metadata": {},
   "outputs": [],
   "source": [
    "G = SymmetricGroup(3)"
   ]
  },
  {
   "cell_type": "code",
   "execution_count": 50,
   "metadata": {},
   "outputs": [],
   "source": [
    "def commutator(g1, g2):\n",
    "    return g1*g2*g1.inverse()*g2.inverse()"
   ]
  },
  {
   "cell_type": "code",
   "execution_count": 56,
   "metadata": {
    "scrolled": true
   },
   "outputs": [
    {
     "data": {
      "text/html": [
       "<div class=\"notruncate\">\n",
       "<table  class=\"table_form\">\n",
       "<tbody>\n",
       "<tr>\n",
       "<th class=\"ch\">*</th>\n",
       "<th><script type=\"math/tex\"></script></th>\n",
       "<th><script type=\"math/tex\">(1,2)</script></th>\n",
       "<th><script type=\"math/tex\">(1,2,3)</script></th>\n",
       "<th><script type=\"math/tex\">(1,3,2)</script></th>\n",
       "<th><script type=\"math/tex\">(2,3)</script></th>\n",
       "<th><script type=\"math/tex\">(1,3)</script></th>\n",
       "</tr>\n",
       "<tr class =\"row-a\">\n",
       "<td class=\"ch\"><script type=\"math/tex\"></script></td>\n",
       "<td><script type=\"math/tex\"></script></td>\n",
       "<td><script type=\"math/tex\"></script></td>\n",
       "<td><script type=\"math/tex\"></script></td>\n",
       "<td><script type=\"math/tex\"></script></td>\n",
       "<td><script type=\"math/tex\"></script></td>\n",
       "<td><script type=\"math/tex\"></script></td>\n",
       "</tr>\n",
       "<tr class =\"row-b\">\n",
       "<td class=\"ch\"><script type=\"math/tex\">(1,2)</script></td>\n",
       "<td><script type=\"math/tex\"></script></td>\n",
       "<td><script type=\"math/tex\"></script></td>\n",
       "<td><script type=\"math/tex\">(1,2,3)</script></td>\n",
       "<td><script type=\"math/tex\">(1,3,2)</script></td>\n",
       "<td><script type=\"math/tex\">(1,2,3)</script></td>\n",
       "<td><script type=\"math/tex\">(1,3,2)</script></td>\n",
       "</tr>\n",
       "<tr class =\"row-a\">\n",
       "<td class=\"ch\"><script type=\"math/tex\">(1,2,3)</script></td>\n",
       "<td><script type=\"math/tex\"></script></td>\n",
       "<td><script type=\"math/tex\">(1,3,2)</script></td>\n",
       "<td><script type=\"math/tex\"></script></td>\n",
       "<td><script type=\"math/tex\"></script></td>\n",
       "<td><script type=\"math/tex\">(1,3,2)</script></td>\n",
       "<td><script type=\"math/tex\">(1,3,2)</script></td>\n",
       "</tr>\n",
       "<tr class =\"row-b\">\n",
       "<td class=\"ch\"><script type=\"math/tex\">(1,3,2)</script></td>\n",
       "<td><script type=\"math/tex\"></script></td>\n",
       "<td><script type=\"math/tex\">(1,2,3)</script></td>\n",
       "<td><script type=\"math/tex\"></script></td>\n",
       "<td><script type=\"math/tex\"></script></td>\n",
       "<td><script type=\"math/tex\">(1,2,3)</script></td>\n",
       "<td><script type=\"math/tex\">(1,2,3)</script></td>\n",
       "</tr>\n",
       "<tr class =\"row-a\">\n",
       "<td class=\"ch\"><script type=\"math/tex\">(2,3)</script></td>\n",
       "<td><script type=\"math/tex\"></script></td>\n",
       "<td><script type=\"math/tex\">(1,3,2)</script></td>\n",
       "<td><script type=\"math/tex\">(1,2,3)</script></td>\n",
       "<td><script type=\"math/tex\">(1,3,2)</script></td>\n",
       "<td><script type=\"math/tex\"></script></td>\n",
       "<td><script type=\"math/tex\">(1,2,3)</script></td>\n",
       "</tr>\n",
       "<tr class =\"row-b\">\n",
       "<td class=\"ch\"><script type=\"math/tex\">(1,3)</script></td>\n",
       "<td><script type=\"math/tex\"></script></td>\n",
       "<td><script type=\"math/tex\">(1,2,3)</script></td>\n",
       "<td><script type=\"math/tex\">(1,2,3)</script></td>\n",
       "<td><script type=\"math/tex\">(1,3,2)</script></td>\n",
       "<td><script type=\"math/tex\">(1,3,2)</script></td>\n",
       "<td><script type=\"math/tex\"></script></td>\n",
       "</tr>\n",
       "</tbody>\n",
       "</table>\n",
       "</div>"
      ],
      "text/plain": [
       "  *       | ()   (1,2)     (1,2,3)   (1,3,2)   (2,3)     (1,3)\n",
       "+---------+----+---------+---------+---------+---------+---------+\n",
       "  ()      | ()   ()        ()        ()        ()        ()\n",
       "  (1,2)   | ()   ()        (1,2,3)   (1,3,2)   (1,2,3)   (1,3,2)\n",
       "  (1,2,3) | ()   (1,3,2)   ()        ()        (1,3,2)   (1,3,2)\n",
       "  (1,3,2) | ()   (1,2,3)   ()        ()        (1,2,3)   (1,2,3)\n",
       "  (2,3)   | ()   (1,3,2)   (1,2,3)   (1,3,2)   ()        (1,2,3)\n",
       "  (1,3)   | ()   (1,2,3)   (1,2,3)   (1,3,2)   (1,3,2)   ()"
      ]
     },
     "execution_count": 56,
     "metadata": {},
     "output_type": "execute_result"
    }
   ],
   "source": [
    "multTable = [['*']]\n",
    "for g in G: \n",
    "    multTable[0].append(g)\n",
    "\n",
    "for i, g1 in enumerate(G):\n",
    "    multTable.append([g1])\n",
    "    for j, g2 in enumerate(G):\n",
    "        multTable[-1].append(commutator(g1, g2))\n",
    "\n",
    "table(multTable, header_column=True, header_row=True)"
   ]
  }
 ],
 "metadata": {
  "kernelspec": {
   "display_name": "SageMath 8.3",
   "language": "",
   "name": "sagemath"
  },
  "language_info": {
   "codemirror_mode": {
    "name": "ipython",
    "version": 2
   },
   "file_extension": ".py",
   "mimetype": "text/x-python",
   "name": "python",
   "nbconvert_exporter": "python",
   "pygments_lexer": "ipython2",
   "version": "2.7.15"
  }
 },
 "nbformat": 4,
 "nbformat_minor": 2
}
